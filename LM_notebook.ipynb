{
 "cells": [
  {
   "cell_type": "markdown",
   "metadata": {},
   "source": [
    "# Language models\n",
    "\n",
    "Tento notebook dokumentuje použití balíčku, který obsahuje více jazykových modelů.\n",
    "\n",
    "### 1. Úvod\n",
    "\n",
    "Použitý repozitář **jncraton/languagemodels**: [odkaz](https://github.com/jncraton/languagemodels).\n",
    "\n",
    "Autor: Jonathan L. Craton, orcid: 0009-0007-6543-8571\n",
    "\n",
    "Tento repozitář ukazuje použití velkých jazykových modelů na vlastním zařízení s minimálně 512MB.\n",
    "\n",
    "Tento balíček umožňuje používat velké jazykové modely v softwaru co nejjednodušeji. Všechny inference jsou prováděny lokálně, aby vaše data byla soukromá.\n",
    "\n",
    "### 1.1. Modely\n",
    "\n",
    "- Tento balíček umožňuje konrétní výběr modelu, ale jsou preferovány výchozí hodnoty, aby se balíček mohl v průběhu času zlepšovat, jakmile jsou k dispozici lepší modely. \n",
    "- Použité modely jsou o 1000x menší než největší modely používané dnes. \n",
    "- Tento balíček je užitečný jako ukázka, ale výkon je daleko pod současným stavem umělé inteligence.\n",
    "\n",
    "- Tento balíček v současné době používá **LaMini-Flan-T5-base** jako výchozí model. Jedná se o doladění základního modelu T5 na vrcholu doladění FLAN. Model je doladěn tak, aby reagoval na instrukce lidským způsobem. Následující lidská hodnocení byla uvedena v dokumentaci k této rodině modelů:\n",
    "\n",
    "![Srovnani modelů](obrazky\\model-comparison.png)\n",
    "\n",
    "Pro dokončení kódu se používají modely řady **CodeT5+.**\n",
    "\n",
    "\n",
    "### 2. Příprava"
   ]
  },
  {
   "cell_type": "code",
   "execution_count": null,
   "metadata": {},
   "outputs": [],
   "source": [
    "# naistalování požadované knihovny\n",
    "%pip install languagemodels\n",
    "\n",
    "# importování požadované knihovny\n",
    "import languagemodels as lm"
   ]
  },
  {
   "cell_type": "markdown",
   "metadata": {},
   "source": [
    "## 3. Použití\n",
    "\n",
    "Tato knihovna má mnoho využití díky použití většího množství různých modelů.\n",
    "\n",
    "#### 3.1. Doplnění textu - **complete** function\n",
    "\n",
    "Generování (doplnění) textu pomocí funkce **complete**. Následující kód ukazuje, jak použít funkci `complete` pro generování textu:"
   ]
  },
  {
   "cell_type": "code",
   "execution_count": null,
   "metadata": {},
   "outputs": [],
   "source": [
    "# Doplnění českého textu - nefunguje\n",
    "text = lm.complete(\"Schovala se ve skříni dokud\")\n",
    "print(text)"
   ]
  },
  {
   "cell_type": "code",
   "execution_count": null,
   "metadata": {},
   "outputs": [],
   "source": [
    "# Doplnění anglického textu - funguje\n",
    "text = lm.complete(\"She hid in her room until\")\n",
    "print(text)"
   ]
  },
  {
   "cell_type": "markdown",
   "metadata": {},
   "source": [
    "#### 3.2. Následování příkazů (instrukcí) - **do** function\n",
    "\n",
    "Následování příkazů (instrukcí) pomocí funkce **do**. Následující kód ukazuje, jak použít funkci `do` pro následování instrukcí:"
   ]
  },
  {
   "cell_type": "code",
   "execution_count": null,
   "metadata": {},
   "outputs": [],
   "source": [
    "# Následování instrukcí 1\n",
    "response = lm.do(\"Přelož mi: Hola, mundo!\")\n",
    "print(response)"
   ]
  },
  {
   "cell_type": "code",
   "execution_count": null,
   "metadata": {},
   "outputs": [],
   "source": [
    "# Následování instrukcí 2\n",
    "response = lm.do(\"Přelož mi to do češtiny: Hola, mundo!\")\n",
    "print(response)"
   ]
  },
  {
   "cell_type": "markdown",
   "metadata": {},
   "source": [
    "#### 3.3. Chatování s modelem - **chat** function\n",
    "\n",
    "Chat-style inference pomocí funkce **chat**. Následující kód ukazuje, jak použít funkci `chat` pro chatování s modelem:"
   ]
  },
  {
   "cell_type": "code",
   "execution_count": null,
   "metadata": {},
   "outputs": [],
   "source": [
    "# Chatování s modelem\n",
    "response = lm.chat('''\n",
    "System: Respond as a helpful assistant.\n",
    "                   \n",
    "User: What time is it?\n",
    "\n",
    "Assistant:\n",
    "''')\n",
    "print(response)"
   ]
  },
  {
   "cell_type": "markdown",
   "metadata": {},
   "source": [
    "#### 3.4. Zero-shot klasifikace - **classify** function\n",
    "\n",
    "Zero-shot classification pomocí funkce **classify**. Následující kód ukazuje, jak použít funkci `classify` pro zero-shot klasifikaci:"
   ]
  },
  {
   "cell_type": "code",
   "execution_count": null,
   "metadata": {},
   "outputs": [],
   "source": [
    "# Zero-shot klasifikace\n",
    "label1 = \"positive\"\n",
    "label2 = \"negative\"\n",
    "text = \"Language models are useful\"\n",
    "predictions = lm.classify(text, label1, label2)\n",
    "print(predictions)"
   ]
  },
  {
   "cell_type": "markdown",
   "metadata": {},
   "source": [
    "#### 3.5. Uložení dokumentu a vyhledání kontextu dokumentu - **store_doc** & **get_doc_context** functions\n",
    "\n",
    "Semantic search pomocí funkcí **store_doc** a **get_doc_context**. Následující kód ukazuje, jak použít funkce `store_doc` a `get_doc_context` pro sémantické vyhledávání:"
   ]
  },
  {
   "cell_type": "code",
   "execution_count": null,
   "metadata": {},
   "outputs": [],
   "source": [
    "# Uložení dokumentu\n",
    "lm.store_doc(lm.get_wiki(\"Python\"), \"Python\")\n",
    "lm.store_doc(lm.get_wiki(\"C language\"), \"C\")\n",
    "lm.store_doc(lm.get_wiki(\"Javascript\"), \"Javascript\")\n",
    "\n",
    "# Vyhledání kontextu dokumentu\n",
    "context = lm.get_doc_context(\"When was this language developed?\")\n",
    "print(context)"
   ]
  },
  {
   "cell_type": "markdown",
   "metadata": {},
   "source": [
    "#### 3.6. Extrahování odpovědi na otázku - **extract_answer** function\n",
    "\n",
    "Extractive question answering pomocí funkce **extract_answer**. Následující kód ukazuje, jak použít funkci `extract_answer` pro extrakci odpovědi na otázku:"
   ]
  },
  {
   "cell_type": "code",
   "execution_count": null,
   "metadata": {},
   "outputs": [],
   "source": [
    "# Extrahování odpovědi na otázku\n",
    "question = \"What color is the ball?\"\n",
    "text = \"There is a green ball and a red box\"\n",
    "answer = lm.extract_answer(question, text)\n",
    "print(answer)"
   ]
  },
  {
   "cell_type": "markdown",
   "metadata": {},
   "source": [
    "#### 3.7. Doplnění kódu - **code** function\n",
    "\n",
    "Model doladěný na Python kódu pomocí funkce **code**. Následující kód ukazuje, jak použit funkci `code` pro dokončení kódu:"
   ]
  },
  {
   "cell_type": "code",
   "execution_count": null,
   "metadata": {},
   "outputs": [],
   "source": [
    "# Práce s kódem\n",
    "code = \"\"\"\n",
    "a = 2\n",
    "b = 5\n",
    "\n",
    "# Swap a and b\n",
    "\"\"\"\n",
    "answer = lm.code(code)\n",
    "print(answer)"
   ]
  },
  {
   "cell_type": "markdown",
   "metadata": {},
   "source": [
    "#### 3.8. External Retrieval\n",
    "\n",
    "Jsou k dispozici pomocné funkce pro získávání textu z externích zdrojů, které lze použít k rozšíření kontextu."
   ]
  },
  {
   "cell_type": "markdown",
   "metadata": {},
   "source": [
    "###### 3.8.1 Získání informací z Wikipedie - **get_wiki** function\n",
    "\n",
    "Základní webové vyhledávání pomocí funkce **get_wiki** Následující kód ukazuje, jak použít funkci `get_wiki` pro získání informací z Wikipedie:"
   ]
  },
  {
   "cell_type": "code",
   "execution_count": null,
   "metadata": {},
   "outputs": [],
   "source": [
    "# Získání informací z Wikipedie\n",
    "query = \"Albert Einstein\"\n",
    "text = lm.get_wiki(query)\n",
    "print(text)"
   ]
  },
  {
   "cell_type": "markdown",
   "metadata": {},
   "source": [
    "###### 3.8.2 Získání předpovědi počasí - **get_weather** function\n",
    "\n",
    "Základní získání předpovědi počasí pomocí funkce **get_weather** Následující kód ukazuje, jak použít funkci `get_weather` pro získání předpovědi počasí (funguje pouze na území USA, zdroj dat je https://api.weather.gov):"
   ]
  },
  {
   "cell_type": "code",
   "execution_count": null,
   "metadata": {},
   "outputs": [],
   "source": [
    "# Získání předpovědi počasí\n",
    "latitude = 41.8\n",
    "longitude = -87.6\n",
    "text = lm.get_weather(latitude, longitude)\n",
    "print(text)"
   ]
  },
  {
   "cell_type": "markdown",
   "metadata": {},
   "source": [
    "###### 3.8.3 Získání aktuální datumu - **get_date** function\n",
    "\n",
    "Získaní data pomocí funkce **get_date**. Následující kód ukazuje, jak použít funkci `get_date` pro získání aktuálního datumu (GTM time +-0):"
   ]
  },
  {
   "cell_type": "code",
   "execution_count": null,
   "metadata": {},
   "outputs": [],
   "source": [
    "# Získání aktuálního data\n",
    "date = lm.get_date()\n",
    "print(date)"
   ]
  },
  {
   "cell_type": "markdown",
   "metadata": {},
   "source": [
    "## 4. Příklady\n",
    "\n",
    "Použití funkce **chat** a **get_date** pro vytvoření funkčnějšího řádkového asistenta."
   ]
  },
  {
   "cell_type": "code",
   "execution_count": null,
   "metadata": {},
   "outputs": [],
   "source": [
    "# Nastavení vstupního řetězce\n",
    "prompt = f\"System: Reply as a helpful assistant. Currently {lm.get_date()}.\"\n",
    "\n",
    "while True:\n",
    "    # Uživatel zadá svou zprávu\n",
    "    user_message = input(\"\\nUser: \")\n",
    "\n",
    "    # Přidání uživatelovy zprávy k řetězci prompt\n",
    "    prompt += f\"\\n\\nUser: {user_message}\"\n",
    "\n",
    "    print(prompt)\n",
    "\n",
    "    # Přidání textu pro odpověď asistenta k řetězci prompt\n",
    "    prompt += \"\\n\\nAssistant:\"\n",
    "\n",
    "    # Získání odpovědi od modelu\n",
    "    response = lm.chat(prompt)\n",
    "\n",
    "    print(f\"\\nAssistant: {response}\")\n",
    "\n",
    "    prompt += f\" {response}\""
   ]
  },
  {
   "cell_type": "markdown",
   "metadata": {},
   "source": [
    "Další asistent, který využívá uložené informace pro svoje znalosti."
   ]
  },
  {
   "cell_type": "code",
   "execution_count": null,
   "metadata": {},
   "outputs": [],
   "source": [
    "# Definice funkce assist, která přijímá otázku jako vstup a vrací odpověď na základě kontextu dokumentu a otázky.\n",
    "def assist(question):\n",
    "    context = lm.get_doc_context(question)  # Získání kontextu dokumentu na základě otázky.\n",
    "    return lm.do(f\"Answer using context: {context} Question: {question}\")  # Vrácení odpovědi na základě kontextu a otázky.\n",
    "\n",
    "# Definice proměnných lat a lon, které jsou použity v rámci funkce assist.\n",
    "lat, lon = (41.8, -87.6)\n",
    "\n",
    "# Uložení dokumentů do paměti pro pozdější použití.\n",
    "lm.store_doc(lm.get_wiki(\"Python language\"), \"Python\")\n",
    "lm.store_doc(lm.get_wiki(\"Planet Saturn\"), \"Saturn\")\n",
    "lm.store_doc(lm.get_weather(lat, lon), \"Weather\")\n",
    "lm.store_doc(lm.get_date(), \"Time\")\n",
    "\n",
    "# Definice seznamu otázek, které jsou použity v rámci cyklu for.\n",
    "questions = [\n",
    "    \"What day of the week is it?\",\n",
    "    \"Is it going to rain today?\",\n",
    "    \"What time is it?\",\n",
    "    \"Who created Python?\",\n",
    "    \"How many moon does Saturn have?\",\n",
    "]\n",
    "\n",
    "# Cyklus for, který volá funkci assist s jednou z otázek jako vstupem a výstup je vypsán na obrazovku.\n",
    "for question in questions:\n",
    "    print(f\"{question} {assist(question)}\")"
   ]
  },
  {
   "cell_type": "markdown",
   "metadata": {},
   "source": [
    "## 5. Nastavení výkonu modelu\n",
    "\n",
    "Základní model by měl běžet rychle na jakémkoli systému s 512 MB paměti, ale tato paměťová hranice může být zvýšena pro výběr výkonnějších modelů, které budou spotřebovávat více zdrojů. Zde je příklad:"
   ]
  },
  {
   "cell_type": "code",
   "execution_count": null,
   "metadata": {},
   "outputs": [],
   "source": [
    "# Jednoduchá instrukce pro model s defaultním nastavením (512 MB RAM) - rychlé ale špatně\n",
    "lm.do(\"Translate to english: Le chat noir dort sur le tapis rouge dans la cuisine.\")"
   ]
  },
  {
   "cell_type": "code",
   "execution_count": null,
   "metadata": {},
   "outputs": [],
   "source": [
    "# Navýšení paměti na 4 GB RAM - správně\n",
    "lm.set_max_ram('4gb')\n",
    "\n",
    "# Provedení instrukce s navýšenou pamětí\n",
    "lm.do(\"Translate to english: Le chat noir dort sur le tapis rouge dans la cuisine.\")"
   ]
  },
  {
   "cell_type": "code",
   "execution_count": null,
   "metadata": {},
   "outputs": [],
   "source": [
    "# Navýšení paměti na 3 GB RAM - rychlé ale furt špatně\n",
    "lm.set_max_ram('3gb')\n",
    "\n",
    "# Provedení instrukce se změněnou pamětí\n",
    "lm.do(\"Translate to english: Le chat noir dort sur le tapis rouge dans la cuisine.\")"
   ]
  }
 ],
 "metadata": {
  "kernelspec": {
   "display_name": "Python 3",
   "language": "python",
   "name": "python3"
  },
  "language_info": {
   "codemirror_mode": {
    "name": "ipython",
    "version": 3
   },
   "file_extension": ".py",
   "mimetype": "text/x-python",
   "name": "python",
   "nbconvert_exporter": "python",
   "pygments_lexer": "ipython3",
   "version": "3.11.2"
  }
 },
 "nbformat": 4,
 "nbformat_minor": 2
}
